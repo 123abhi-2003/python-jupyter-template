{
 "cells": [
  {
   "cell_type": "markdown",
   "metadata": {},
   "source": [
    "### Exercise 5: Subplot Layout"
   ]
  },
  {
   "cell_type": "code",
   "execution_count": null,
   "metadata": {},
   "outputs": [],
   "source": [
    "# TASK: Create a 2x2 subplot layout.\n",
    "# Plot a line chart in the first subplot, a bar chart in the second, a scatter plot in the third, and a pie chart in the fourth.\n",
    "import matplotlib.pyplot as plt\n",
    "import numpy as np\n",
    "\n",
    "# Data for plots\n",
    "x = np.linspace(0, 10, 100)\n",
    "y = x**2\n",
    "\n",
    "categories = ['A', 'B', 'C', 'D']\n",
    "values = [5, 7, 3, 9]\n",
    "\n",
    "scatter_x = [1, 2, 3, 4, 5]\n",
    "scatter_y = [2, 4, 6, 8, 10]\n",
    "\n",
    "pie_labels = ['Python', 'Java', 'C++', 'JavaScript']\n",
    "pie_sizes = [40, 25, 20, 15]\n",
    "pie_colors = ['blue', 'red', 'green', 'orange']\n",
    "\n",
    "# Create subplots\n",
    "fig, axes = plt.subplots(2, 2, figsize=(10, 8))\n",
    "\n",
    "# Line chart\n",
    "axes[0, 0].plot(x, y, color='b', linewidth=2)\n",
    "axes[0, 0].set_title(\"Line Chart\")\n",
    "axes[0, 0].set_xlabel(\"X\")\n",
    "axes[0, 0].set_ylabel(\"Y\")\n",
    "axes[0, 0].grid(True)\n",
    "\n",
    "# Bar chart\n",
    "axes[0, 1].bar(categories, values, color=['red', 'blue', 'green', 'purple'])\n",
    "axes[0, 1].set_title(\"Bar Chart\")\n",
    "axes[0, 1].set_xlabel(\"Categories\")\n",
    "axes[0, 1].set_ylabel(\"Values\")\n",
    "axes[0, 1].grid(axis='y', linestyle=\"--\", alpha=0.7)\n",
    "\n",
    "# Scatter plot\n",
    "axes[1, 0].scatter(scatter_x, scatter_y, color='blue')\n",
    "axes[1, 0].set_title(\"Scatter Plot\")\n",
    "axes[1, 0].set_xlabel(\"X Values\")\n",
    "axes[1, 0].set_ylabel(\"Y Values\")\n",
    "axes[1, 0].grid(True)\n",
    "\n",
    "# Pie chart\n",
    "axes[1, 1].pie(pie_sizes, labels=pie_labels, autopct='%1.1f%%', colors=pie_colors, startangle=140, wedgeprops={'edgecolor': 'black'})\n",
    "axes[1, 1].set_title(\"Pie Chart\")\n",
    "\n",
    "# Adjust layout\n",
    "plt.tight_layout()\n",
    "\n",
    "# Show plot\n",
    "plt.show()\n"
   ]
  }
 ],
 "metadata": {
  "language_info": {
   "name": "python"
  }
 },
 "nbformat": 4,
 "nbformat_minor": 2
}
